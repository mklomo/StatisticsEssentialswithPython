{
 "cells": [
  {
   "cell_type": "markdown",
   "id": "417a2ae4-7572-4132-b7c4-de9f7da330fa",
   "metadata": {},
   "source": [
    "# Hypothesis Tests "
   ]
  },
  {
   "cell_type": "code",
   "execution_count": 20,
   "id": "99dd96f4-ea79-46c4-b559-861d6f479fbc",
   "metadata": {},
   "outputs": [],
   "source": [
    "from scipy import stats"
   ]
  },
  {
   "cell_type": "code",
   "execution_count": 1,
   "id": "2169ea23-95ef-4daa-bc88-65775d28bf17",
   "metadata": {},
   "outputs": [],
   "source": [
    "# import relevant libraries\n",
    "import numpy as np\n",
    "import pandas as pd\n",
    "import matplotlib.pyplot as plt\n",
    "\n",
    "\n",
    "\n",
    "# String INTs Function\n",
    "def shrink_ints(df):\n",
    "    mapping = {}\n",
    "    for col in df.dtypes[df.dtypes == 'int64[pyarrow]'].index:\n",
    "        max_ = df[col].max()\n",
    "        min_ = df[col].min()\n",
    "        if min_ < 0:\n",
    "            continue\n",
    "        elif max_ < 255:\n",
    "            mapping[col] = 'uint8[pyarrow]'\n",
    "        elif max_ < 65_535:\n",
    "            mapping[col] = 'uint16[pyarrow]'\n",
    "        elif max_ < 4294967295:\n",
    "            mapping[col] = 'uint64[pyarrow]'\n",
    "        return df.astype(mapping)\n",
    "\n",
    "\n",
    "\n",
    "\n",
    "# Creating a clean_housing function\n",
    "def clean_housing_no_na(df):\n",
    "    return(\n",
    "    df\n",
    "    # Using the assign method to update records\n",
    "    .assign(\n",
    "        # Update the \n",
    "        **df\n",
    "            # Select the string cols in the df\n",
    "            .select_dtypes('string')\n",
    "            # replace all the NA values in the df with Missing\n",
    "            .replace('', 'Missing')\n",
    "            # Convert to category\n",
    "            .astype('category'),\n",
    "        # Using dictionary unpacking to update the Garage col with clipped col\n",
    "        **{'Garage Yr Blt': df['Garage Yr Blt'].clip(upper=df['Year Built'].max())}      \n",
    "    )\n",
    "    # Convert the numerical variables to the right datatypes to save memory\n",
    "    .pipe(shrink_ints)\n",
    "    # Fill missing values integer values with the mean of the respective int cols\n",
    "    .pipe(lambda df_: df_.assign(**df_.select_dtypes('int').fillna(df_.select_dtypes('int').mean())))\n",
    "    # Fill missing categorical values with the mode of the respective col\n",
    "    .pipe(lambda df_: df_.assign(**df_.select_dtypes('category').fillna(df_.select_dtypes('category').mode())))\n",
    "    )\n",
    "\n",
    "\n",
    "\n",
    "# Execute the Pipeline\n",
    "url = 'AmesHousing.csv'\n",
    "\n",
    "# Load the data\n",
    "# Engine = Pyarrow makes the back-end quicker with pyarrow and the pyarrow data types\n",
    "df = pd.read_csv(url, engine='pyarrow', dtype_backend='pyarrow')\n",
    "\n",
    "# Clean the data and Preview the result\n",
    "aimes_df = clean_housing_no_na(df)"
   ]
  },
  {
   "cell_type": "code",
   "execution_count": 2,
   "id": "ca420d50-11e1-4ce1-96f0-3e99434a1721",
   "metadata": {},
   "outputs": [
    {
     "data": {
      "text/plain": [
       "Neighborhood\n",
       "NAmes      443\n",
       "CollgCr    267\n",
       "OldTown    239\n",
       "Edwards    194\n",
       "Somerst    182\n",
       "NridgHt    166\n",
       "Gilbert    165\n",
       "Sawyer     151\n",
       "NWAmes     131\n",
       "SawyerW    125\n",
       "Mitchel    114\n",
       "BrkSide    108\n",
       "Crawfor    103\n",
       "IDOTRR      93\n",
       "Timber      72\n",
       "NoRidge     71\n",
       "StoneBr     51\n",
       "SWISU       48\n",
       "ClearCr     44\n",
       "MeadowV     37\n",
       "BrDale      30\n",
       "Blmngtn     28\n",
       "Veenker     24\n",
       "NPkVill     23\n",
       "Blueste     10\n",
       "Greens       8\n",
       "GrnHill      2\n",
       "Landmrk      1\n",
       "Name: count, dtype: int64"
      ]
     },
     "execution_count": 2,
     "metadata": {},
     "output_type": "execute_result"
    }
   ],
   "source": [
    "(\n",
    "    aimes_df\n",
    "    # Select the Neighborhood col\n",
    "    ['Neighborhood']\n",
    "    # Count\n",
    "    .value_counts()\n",
    ")"
   ]
  },
  {
   "cell_type": "code",
   "execution_count": 4,
   "id": "ef16b6d0-4b1d-4422-838e-7079f05ca852",
   "metadata": {},
   "outputs": [
    {
     "data": {
      "text/html": [
       "<div>\n",
       "<style scoped>\n",
       "    .dataframe tbody tr th:only-of-type {\n",
       "        vertical-align: middle;\n",
       "    }\n",
       "\n",
       "    .dataframe tbody tr th {\n",
       "        vertical-align: top;\n",
       "    }\n",
       "\n",
       "    .dataframe thead th {\n",
       "        text-align: right;\n",
       "    }\n",
       "</style>\n",
       "<table border=\"1\" class=\"dataframe\">\n",
       "  <thead>\n",
       "    <tr style=\"text-align: right;\">\n",
       "      <th></th>\n",
       "      <th>count</th>\n",
       "      <th>mean</th>\n",
       "      <th>std</th>\n",
       "      <th>min</th>\n",
       "      <th>25%</th>\n",
       "      <th>50%</th>\n",
       "      <th>75%</th>\n",
       "      <th>max</th>\n",
       "    </tr>\n",
       "    <tr>\n",
       "      <th>Neighborhood</th>\n",
       "      <th></th>\n",
       "      <th></th>\n",
       "      <th></th>\n",
       "      <th></th>\n",
       "      <th></th>\n",
       "      <th></th>\n",
       "      <th></th>\n",
       "      <th></th>\n",
       "    </tr>\n",
       "  </thead>\n",
       "  <tbody>\n",
       "    <tr>\n",
       "      <th>CollgCr</th>\n",
       "      <td>267.0</td>\n",
       "      <td>201803.434457</td>\n",
       "      <td>54187.843749</td>\n",
       "      <td>110000.0</td>\n",
       "      <td>160875.0</td>\n",
       "      <td>200000.0</td>\n",
       "      <td>228250.0</td>\n",
       "      <td>475000.0</td>\n",
       "    </tr>\n",
       "    <tr>\n",
       "      <th>NAmes</th>\n",
       "      <td>443.0</td>\n",
       "      <td>145097.349887</td>\n",
       "      <td>31882.707229</td>\n",
       "      <td>68000.0</td>\n",
       "      <td>127000.0</td>\n",
       "      <td>140000.0</td>\n",
       "      <td>157500.0</td>\n",
       "      <td>345000.0</td>\n",
       "    </tr>\n",
       "  </tbody>\n",
       "</table>\n",
       "</div>"
      ],
      "text/plain": [
       "              count           mean           std       min       25%  \\\n",
       "Neighborhood                                                           \n",
       "CollgCr       267.0  201803.434457  54187.843749  110000.0  160875.0   \n",
       "NAmes         443.0  145097.349887  31882.707229   68000.0  127000.0   \n",
       "\n",
       "                   50%       75%       max  \n",
       "Neighborhood                                \n",
       "CollgCr       200000.0  228250.0  475000.0  \n",
       "NAmes         140000.0  157500.0  345000.0  "
      ]
     },
     "execution_count": 4,
     "metadata": {},
     "output_type": "execute_result"
    }
   ],
   "source": [
    "(\n",
    "    aimes_df\n",
    "    # Group by Neighbourhood\n",
    "    .groupby('Neighborhood')\n",
    "    # Descirbe aggregation\n",
    "    .describe()\n",
    "    # Select relevant cols\n",
    "    .loc[['CollgCr', 'NAmes'], 'SalePrice']\n",
    ")"
   ]
  },
  {
   "cell_type": "code",
   "execution_count": 5,
   "id": "8dbabab5-add0-4260-a06d-e035c66863c2",
   "metadata": {},
   "outputs": [
    {
     "data": {
      "text/html": [
       "<div>\n",
       "<style scoped>\n",
       "    .dataframe tbody tr th:only-of-type {\n",
       "        vertical-align: middle;\n",
       "    }\n",
       "\n",
       "    .dataframe tbody tr th {\n",
       "        vertical-align: top;\n",
       "    }\n",
       "\n",
       "    .dataframe thead th {\n",
       "        text-align: right;\n",
       "    }\n",
       "</style>\n",
       "<table border=\"1\" class=\"dataframe\">\n",
       "  <thead>\n",
       "    <tr style=\"text-align: right;\">\n",
       "      <th>Neighborhood</th>\n",
       "      <th>CollgCr</th>\n",
       "      <th>NAmes</th>\n",
       "    </tr>\n",
       "  </thead>\n",
       "  <tbody>\n",
       "    <tr>\n",
       "      <th>count</th>\n",
       "      <td>267.000000</td>\n",
       "      <td>443.000000</td>\n",
       "    </tr>\n",
       "    <tr>\n",
       "      <th>mean</th>\n",
       "      <td>201803.434457</td>\n",
       "      <td>145097.349887</td>\n",
       "    </tr>\n",
       "    <tr>\n",
       "      <th>std</th>\n",
       "      <td>54187.843749</td>\n",
       "      <td>31882.707229</td>\n",
       "    </tr>\n",
       "    <tr>\n",
       "      <th>min</th>\n",
       "      <td>110000.000000</td>\n",
       "      <td>68000.000000</td>\n",
       "    </tr>\n",
       "    <tr>\n",
       "      <th>25%</th>\n",
       "      <td>160875.000000</td>\n",
       "      <td>127000.000000</td>\n",
       "    </tr>\n",
       "    <tr>\n",
       "      <th>50%</th>\n",
       "      <td>200000.000000</td>\n",
       "      <td>140000.000000</td>\n",
       "    </tr>\n",
       "    <tr>\n",
       "      <th>75%</th>\n",
       "      <td>228250.000000</td>\n",
       "      <td>157500.000000</td>\n",
       "    </tr>\n",
       "    <tr>\n",
       "      <th>max</th>\n",
       "      <td>475000.000000</td>\n",
       "      <td>345000.000000</td>\n",
       "    </tr>\n",
       "  </tbody>\n",
       "</table>\n",
       "</div>"
      ],
      "text/plain": [
       "Neighborhood        CollgCr          NAmes\n",
       "count            267.000000     443.000000\n",
       "mean          201803.434457  145097.349887\n",
       "std            54187.843749   31882.707229\n",
       "min           110000.000000   68000.000000\n",
       "25%           160875.000000  127000.000000\n",
       "50%           200000.000000  140000.000000\n",
       "75%           228250.000000  157500.000000\n",
       "max           475000.000000  345000.000000"
      ]
     },
     "execution_count": 5,
     "metadata": {},
     "output_type": "execute_result"
    }
   ],
   "source": [
    "(\n",
    "    aimes_df\n",
    "    # Group by Neighbourhood\n",
    "    .groupby('Neighborhood')\n",
    "    # Descirbe aggregation\n",
    "    .describe()\n",
    "    # Select relevant cols\n",
    "    .loc[['CollgCr', 'NAmes'], 'SalePrice']\n",
    "    # Transpose\n",
    "    .T\n",
    ")"
   ]
  },
  {
   "cell_type": "markdown",
   "id": "fe12de5b-1c18-478c-8927-6271b10e771c",
   "metadata": {},
   "source": [
    "## Visualizing Distributions\n",
    "\n",
    "- Make histograms of both distributions\n",
    "- Cumulative Distribution Plot"
   ]
  },
  {
   "cell_type": "code",
   "execution_count": 6,
   "id": "68f5c312-4384-40fc-b844-8d41ec85abe4",
   "metadata": {},
   "outputs": [
    {
     "data": {
      "text/plain": [
       "0     215000\n",
       "1     105000\n",
       "2     172000\n",
       "3     244000\n",
       "23    149000\n",
       "Name: SalePrice, dtype: int64[pyarrow]"
      ]
     },
     "execution_count": 6,
     "metadata": {},
     "output_type": "execute_result"
    }
   ],
   "source": [
    "n_ames = (\n",
    "            aimes_df\n",
    "            # Query Neighborhood = NAmes\n",
    "            .query(\"Neighborhood == 'NAmes'\")\n",
    "            # Select the Sale Price\n",
    "            ['SalePrice']\n",
    ")\n",
    "\n",
    "n_ames.head()"
   ]
  },
  {
   "cell_type": "code",
   "execution_count": 8,
   "id": "a123dba9-38f9-43ef-88e1-fdf6a4cbd52c",
   "metadata": {},
   "outputs": [
    {
     "data": {
      "text/plain": [
       "249    245350\n",
       "250    206000\n",
       "251    198900\n",
       "252    187000\n",
       "256    159000\n",
       "Name: SalePrice, dtype: int64[pyarrow]"
      ]
     },
     "execution_count": 8,
     "metadata": {},
     "output_type": "execute_result"
    }
   ],
   "source": [
    "college_cr = (\n",
    "            aimes_df\n",
    "            # Query Neighborhood = NAmes\n",
    "            .query(\"Neighborhood == 'CollgCr'\")\n",
    "            # Select the Sale Price\n",
    "            ['SalePrice']\n",
    ")\n",
    "\n",
    "college_cr.head()"
   ]
  },
  {
   "cell_type": "code",
   "execution_count": 10,
   "id": "7fae8c1a-0dc6-49ef-b197-152166f7c726",
   "metadata": {},
   "outputs": [
    {
     "data": {
      "text/plain": [
       "<matplotlib.legend.Legend at 0x1f9b002e580>"
      ]
     },
     "execution_count": 10,
     "metadata": {},
     "output_type": "execute_result"
    },
    {
     "data": {
      "image/png": "[encoded data removed]",
      "text/plain": [
       "<Figure size 640x480 with 1 Axes>"
      ]
     },
     "metadata": {},
     "output_type": "display_data"
    }
   ],
   "source": [
    "# Plotting the histogram on the same plots\n",
    "alpha = 0.6\n",
    "\n",
    "ax = n_ames.hist(label='NAmes', alpha=alpha)\n",
    "\n",
    "college_cr.hist(ax=ax, label='CollgCr', alpha=alpha)\n",
    "\n",
    "ax.legend()"
   ]
  },
  {
   "cell_type": "code",
   "execution_count": 11,
   "id": "eaf7ced4-709b-4d27-a121-1368df0ac2db",
   "metadata": {},
   "outputs": [
    {
     "data": {
      "text/plain": [
       "<Axes: xlabel='SalePrice'>"
      ]
     },
     "execution_count": 11,
     "metadata": {},
     "output_type": "execute_result"
    },
    {
     "data": {
      "image/png": "[encoded data removed]",
      "text/plain": [
       "<Figure size 640x480 with 1 Axes>"
      ]
     },
     "metadata": {},
     "output_type": "display_data"
    }
   ],
   "source": [
    "# Cummulative Density Plot\n",
    "\n",
    "(\n",
    "    n_ames\n",
    "    # Convert to DF\n",
    "    .to_frame()\n",
    "    # Perform an assignment operation\n",
    "    .assign(cdf=n_ames.rank(method='average', pct=True))\n",
    "    # Sort the values b y SalePrice\n",
    "    .sort_values(by='SalePrice')\n",
    "    # Lets plot a lineplot\n",
    "    .plot(x='SalePrice', y='cdf', label='NAmes')\n",
    ")"
   ]
  },
  {
   "cell_type": "code",
   "execution_count": 17,
   "id": "c4921148-b9b8-4380-8d2f-5c370d05b301",
   "metadata": {},
   "outputs": [
    {
     "data": {
      "text/plain": [
       "0       215000\n",
       "1       105000\n",
       "2       172000\n",
       "3       244000\n",
       "23      149000\n",
       "         ...  \n",
       "2630    155000\n",
       "2631    134500\n",
       "2632    120000\n",
       "2633    105000\n",
       "2634    124000\n",
       "Name: SalePrice, Length: 443, dtype: int64[pyarrow]"
      ]
     },
     "execution_count": 17,
     "metadata": {},
     "output_type": "execute_result"
    },
    {
     "data": {
      "image/png": "[encoded data removed]",
      "text/plain": [
       "<Figure size 640x480 with 1 Axes>"
      ]
     },
     "metadata": {},
     "output_type": "display_data"
    }
   ],
   "source": [
    "# Cummulative Density Plot\n",
    "\n",
    "def plot_cdf(ser, ax=None, label=''):\n",
    "    (\n",
    "        ser\n",
    "        # Convert to DF\n",
    "        .to_frame()\n",
    "        # Perform an assignment operation\n",
    "        .assign(cdf=ser.rank(method='average', pct=True))\n",
    "        # Sort the values b y SalePrice\n",
    "        .sort_values(by='SalePrice')\n",
    "        # Lets plot a lineplot\n",
    "        .plot(x='SalePrice', y='cdf', label=label, ax=ax)\n",
    "    )\n",
    "    return ser\n",
    "\n",
    "\n",
    "\n",
    "plot_cdf(ser=n_ames, label='NAmes')"
   ]
  },
  {
   "cell_type": "code",
   "execution_count": 18,
   "id": "008d7a42-e977-478f-988d-86b4a2108b0d",
   "metadata": {},
   "outputs": [
    {
     "data": {
      "text/plain": [
       "249     245350\n",
       "250     206000\n",
       "251     198900\n",
       "252     187000\n",
       "256     159000\n",
       "         ...  \n",
       "2811    196500\n",
       "2812    198000\n",
       "2813    173900\n",
       "2814    163990\n",
       "2815    164990\n",
       "Name: SalePrice, Length: 267, dtype: int64[pyarrow]"
      ]
     },
     "execution_count": 18,
     "metadata": {},
     "output_type": "execute_result"
    },
    {
     "data": {
      "image/png": "[encoded data removed]",
      "text/plain": [
       "<Figure size 800x400 with 1 Axes>"
      ]
     },
     "metadata": {},
     "output_type": "display_data"
    }
   ],
   "source": [
    "\n",
    "\n",
    "fig, ax_1 = plt.subplots(figsize=(8,4))\n",
    "\n",
    "plot_cdf(ser=n_ames, label='NAmes', ax=ax_1)\n",
    "\n",
    "plot_cdf(ser=college_cr, label='CollegeCr', ax=ax_1)"
   ]
  },
  {
   "cell_type": "markdown",
   "id": "5d1294af-68ce-43c0-8b1e-42462840c4f6",
   "metadata": {},
   "source": [
    "> CDFs do not overlap meaning they do not belong to the same distribution"
   ]
  },
  {
   "cell_type": "markdown",
   "id": "5c6c9513-7d55-43c8-a6af-7116a3033cf3",
   "metadata": {},
   "source": [
    "## Running Statistical Tests\n",
    "- Use the `scipy.stats` module to run statistical tests "
   ]
  },
  {
   "cell_type": "code",
   "execution_count": 21,
   "id": "354db9e2-9174-4126-a8bb-b0d51df8f824",
   "metadata": {},
   "outputs": [
    {
     "name": "stdout",
     "output_type": "stream",
     "text": [
      "['ConstantInputWarning', 'Covariance', 'DegenerateDataWarning', 'FitError', 'NearConstantInputWarning', '__all__', '__builtins__', '__cached__', '__doc__', '__file__', '__loader__', '__name__', '__package__', '__path__', '__spec__', '_axis_nan_policy', '_biasedurn', '_binned_statistic', '_binomtest', '_boost', '_common', '_constants', '_continuous_distns', '_covariance', '_crosstab', '_discrete_distns', '_distn_infrastructure', '_distr_params', '_entropy', '_fit', '_hypotests', '_kde', '_ksstats', '_levy_stable', '_mannwhitneyu', '_morestats', '_mstats_basic', '_mstats_extras', '_multivariate', '_mvn', '_odds_ratio', '_page_trend_test', '_qmc', '_qmc_cy', '_rcont', '_relative_risk', '_resampling', '_rvs_sampling', '_sobol', '_statlib', '_stats', '_stats_mstats_common', '_stats_py', '_stats_pythran', '_tukeylambda_stats', '_variation', '_warnings_errors', 'alexandergovern', 'alpha', 'anderson', 'anderson_ksamp', 'anglit', 'ansari', 'arcsine', 'argus', 'barnard_exact', 'bartlett', 'bayes_mvs', 'bernoulli', 'beta', 'betabinom', 'betaprime', 'biasedurn', 'binned_statistic', 'binned_statistic_2d', 'binned_statistic_dd', 'binom', 'binom_test', 'binomtest', 'boltzmann', 'bootstrap', 'boschloo_exact', 'boxcox', 'boxcox_llf', 'boxcox_normmax', 'boxcox_normplot', 'bradford', 'brunnermunzel', 'burr', 'burr12', 'cauchy', 'chi', 'chi2', 'chi2_contingency', 'chisquare', 'circmean', 'circstd', 'circvar', 'combine_pvalues', 'contingency', 'cosine', 'cramervonmises', 'cramervonmises_2samp', 'crystalball', 'cumfreq', 'describe', 'dgamma', 'differential_entropy', 'directional_stats', 'dirichlet', 'distributions', 'dlaplace', 'dweibull', 'energy_distance', 'entropy', 'epps_singleton_2samp', 'erlang', 'expectile', 'expon', 'exponnorm', 'exponpow', 'exponweib', 'f', 'f_oneway', 'fatiguelife', 'find_repeats', 'fisher_exact', 'fisk', 'fit', 'fligner', 'foldcauchy', 'foldnorm', 'friedmanchisquare', 'gamma', 'gausshyper', 'gaussian_kde', 'genexpon', 'genextreme', 'gengamma', 'genhalflogistic', 'genhyperbolic', 'geninvgauss', 'genlogistic', 'gennorm', 'genpareto', 'geom', 'gibrat', 'gilbrat', 'gmean', 'gompertz', 'goodness_of_fit', 'gstd', 'gumbel_l', 'gumbel_r', 'gzscore', 'halfcauchy', 'halfgennorm', 'halflogistic', 'halfnorm', 'hmean', 'hypergeom', 'hypsecant', 'invgamma', 'invgauss', 'invweibull', 'invwishart', 'iqr', 'jarque_bera', 'johnsonsb', 'johnsonsu', 'kappa3', 'kappa4', 'kde', 'kendalltau', 'kruskal', 'ks_1samp', 'ks_2samp', 'ksone', 'kstat', 'kstatvar', 'kstest', 'kstwo', 'kstwobign', 'kurtosis', 'kurtosistest', 'laplace', 'laplace_asymmetric', 'levene', 'levy', 'levy_l', 'levy_stable', 'linregress', 'loggamma', 'logistic', 'loglaplace', 'lognorm', 'logser', 'loguniform', 'lomax', 'mannwhitneyu', 'matrix_normal', 'maxwell', 'median_abs_deviation', 'median_test', 'mielke', 'mode', 'moment', 'monte_carlo_test', 'mood', 'morestats', 'moyal', 'mstats', 'mstats_basic', 'mstats_extras', 'multinomial', 'multiscale_graphcorr', 'multivariate_hypergeom', 'multivariate_normal', 'multivariate_t', 'mvn', 'mvsdist', 'nakagami', 'nbinom', 'ncf', 'nchypergeom_fisher', 'nchypergeom_wallenius', 'nct', 'ncx2', 'nhypergeom', 'norm', 'normaltest', 'norminvgauss', 'obrientransform', 'ortho_group', 'page_trend_test', 'pareto', 'pearson3', 'pearsonr', 'percentileofscore', 'permutation_test', 'planck', 'pmean', 'pointbiserialr', 'poisson', 'poisson_means_test', 'power_divergence', 'powerlaw', 'powerlognorm', 'powernorm', 'ppcc_max', 'ppcc_plot', 'probplot', 'qmc', 'randint', 'random_correlation', 'random_table', 'rankdata', 'ranksums', 'rayleigh', 'rdist', 'recipinvgauss', 'reciprocal', 'relfreq', 'rice', 'rv_continuous', 'rv_discrete', 'rv_histogram', 'rvs_ratio_uniforms', 'scoreatpercentile', 'sem', 'semicircular', 'shapiro', 'siegelslopes', 'sigmaclip', 'skellam', 'skew', 'skewcauchy', 'skewnorm', 'skewtest', 'somersd', 'spearmanr', 'special_ortho_group', 'statlib', 'stats', 'studentized_range', 't', 'test', 'theilslopes', 'tiecorrect', 'tmax', 'tmean', 'tmin', 'trapezoid', 'trapz', 'triang', 'trim1', 'trim_mean', 'trimboth', 'truncexpon', 'truncnorm', 'truncpareto', 'truncweibull_min', 'tsem', 'tstd', 'ttest_1samp', 'ttest_ind', 'ttest_ind_from_stats', 'ttest_rel', 'tukey_hsd', 'tukeylambda', 'tvar', 'uniform', 'uniform_direction', 'unitary_group', 'variation', 'vonmises', 'vonmises_line', 'wald', 'wasserstein_distance', 'weibull_max', 'weibull_min', 'weightedtau', 'wilcoxon', 'wishart', 'wrapcauchy', 'yeojohnson', 'yeojohnson_llf', 'yeojohnson_normmax', 'yeojohnson_normplot', 'yulesimon', 'zipf', 'zipfian', 'zmap', 'zscore']\n"
     ]
    }
   ],
   "source": [
    "# Check the library\n",
    "\n",
    "print(dir(stats))"
   ]
  },
  {
   "cell_type": "code",
   "execution_count": 22,
   "id": "a63e73ab-3184-407b-a878-84c58f376262",
   "metadata": {},
   "outputs": [
    {
     "data": {
      "text/plain": [
       "\u001b[1;31mSignature:\u001b[0m \u001b[0mstats\u001b[0m\u001b[1;33m.\u001b[0m\u001b[0mks_2samp\u001b[0m\u001b[1;33m(\u001b[0m\u001b[0mdata1\u001b[0m\u001b[1;33m,\u001b[0m \u001b[0mdata2\u001b[0m\u001b[1;33m,\u001b[0m \u001b[0malternative\u001b[0m\u001b[1;33m=\u001b[0m\u001b[1;34m'two-sided'\u001b[0m\u001b[1;33m,\u001b[0m \u001b[0mmethod\u001b[0m\u001b[1;33m=\u001b[0m\u001b[1;34m'auto'\u001b[0m\u001b[1;33m)\u001b[0m\u001b[1;33m\u001b[0m\u001b[1;33m\u001b[0m\u001b[0m\n",
       "\u001b[1;31mSource:\u001b[0m   \n",
       "\u001b[1;33m@\u001b[0m\u001b[0m_rename_parameter\u001b[0m\u001b[1;33m(\u001b[0m\u001b[1;34m\"mode\"\u001b[0m\u001b[1;33m,\u001b[0m \u001b[1;34m\"method\"\u001b[0m\u001b[1;33m)\u001b[0m\u001b[1;33m\n",
       "\u001b[0m\u001b[1;32mdef\u001b[0m \u001b[0mks_2samp\u001b[0m\u001b[1;33m(\u001b[0m\u001b[0mdata1\u001b[0m\u001b[1;33m,\u001b[0m \u001b[0mdata2\u001b[0m\u001b[1;33m,\u001b[0m \u001b[0malternative\u001b[0m\u001b[1;33m=\u001b[0m\u001b[1;34m'two-sided'\u001b[0m\u001b[1;33m,\u001b[0m \u001b[0mmethod\u001b[0m\u001b[1;33m=\u001b[0m\u001b[1;34m'auto'\u001b[0m\u001b[1;33m)\u001b[0m\u001b[1;33m:\u001b[0m\u001b[1;33m\n",
       "\u001b[0m    \u001b[1;34m\"\"\"\n",
       "    Performs the two-sample Kolmogorov-Smirnov test for goodness of fit.\n",
       "\n",
       "    This test compares the underlying continuous distributions F(x) and G(x)\n",
       "    of two independent samples.  See Notes for a description of the available\n",
       "    null and alternative hypotheses.\n",
       "\n",
       "    Parameters\n",
       "    ----------\n",
       "    data1, data2 : array_like, 1-Dimensional\n",
       "        Two arrays of sample observations assumed to be drawn from a continuous\n",
       "        distribution, sample sizes can be different.\n",
       "    alternative : {'two-sided', 'less', 'greater'}, optional\n",
       "        Defines the null and alternative hypotheses. Default is 'two-sided'.\n",
       "        Please see explanations in the Notes below.\n",
       "    method : {'auto', 'exact', 'asymp'}, optional\n",
       "        Defines the method used for calculating the p-value.\n",
       "        The following options are available (default is 'auto'):\n",
       "\n",
       "          * 'auto' : use 'exact' for small size arrays, 'asymp' for large\n",
       "          * 'exact' : use exact distribution of test statistic\n",
       "          * 'asymp' : use asymptotic distribution of test statistic\n",
       "\n",
       "    Returns\n",
       "    -------\n",
       "    res: KstestResult\n",
       "        An object containing attributes:\n",
       "\n",
       "        statistic : float\n",
       "            KS test statistic.\n",
       "        pvalue : float\n",
       "            One-tailed or two-tailed p-value.\n",
       "        statistic_location : float\n",
       "            Value from `data1` or `data2` corresponding with the KS statistic;\n",
       "            i.e., the distance between the empirical distribution functions is\n",
       "            measured at this observation.\n",
       "        statistic_sign : int\n",
       "            +1 if the empirical distribution function of `data1` exceeds\n",
       "            the empirical distribution function of `data2` at\n",
       "            `statistic_location`, otherwise -1.\n",
       "\n",
       "    See Also\n",
       "    --------\n",
       "    kstest, ks_1samp, epps_singleton_2samp, anderson_ksamp\n",
       "\n",
       "    Notes\n",
       "    -----\n",
       "    There are three options for the null and corresponding alternative\n",
       "    hypothesis that can be selected using the `alternative` parameter.\n",
       "\n",
       "    - `less`: The null hypothesis is that F(x) >= G(x) for all x; the\n",
       "      alternative is that F(x) < G(x) for at least one x. The statistic\n",
       "      is the magnitude of the minimum (most negative) difference between the\n",
       "      empirical distribution functions of the samples.\n",
       "\n",
       "    - `greater`: The null hypothesis is that F(x) <= G(x) for all x; the\n",
       "      alternative is that F(x) > G(x) for at least one x. The statistic\n",
       "      is the maximum (most positive) difference between the empirical\n",
       "      distribution functions of the samples.\n",
       "\n",
       "    - `two-sided`: The null hypothesis is that the two distributions are\n",
       "      identical, F(x)=G(x) for all x; the alternative is that they are not\n",
       "      identical. The statistic is the maximum absolute difference between the\n",
       "      empirical distribution functions of the samples.\n",
       "\n",
       "    Note that the alternative hypotheses describe the *CDFs* of the\n",
       "    underlying distributions, not the observed values of the data. For example,\n",
       "    suppose x1 ~ F and x2 ~ G. If F(x) > G(x) for all x, the values in\n",
       "    x1 tend to be less than those in x2.\n",
       "\n",
       "    If the KS statistic is large, then the p-value will be small, and this may\n",
       "    be taken as evidence against the null hypothesis in favor of the\n",
       "    alternative.\n",
       "\n",
       "    If ``method='exact'``, `ks_2samp` attempts to compute an exact p-value,\n",
       "    that is, the probability under the null hypothesis of obtaining a test\n",
       "    statistic value as extreme as the value computed from the data.\n",
       "    If ``method='asymp'``, the asymptotic Kolmogorov-Smirnov distribution is\n",
       "    used to compute an approximate p-value.\n",
       "    If ``method='auto'``, an exact p-value computation is attempted if both\n",
       "    sample sizes are less than 10000; otherwise, the asymptotic method is used.\n",
       "    In any case, if an exact p-value calculation is attempted and fails, a\n",
       "    warning will be emitted, and the asymptotic p-value will be returned.\n",
       "\n",
       "    The 'two-sided' 'exact' computation computes the complementary probability\n",
       "    and then subtracts from 1.  As such, the minimum probability it can return\n",
       "    is about 1e-16.  While the algorithm itself is exact, numerical\n",
       "    errors may accumulate for large sample sizes.   It is most suited to\n",
       "    situations in which one of the sample sizes is only a few thousand.\n",
       "\n",
       "    We generally follow Hodges' treatment of Drion/Gnedenko/Korolyuk [1]_.\n",
       "\n",
       "    References\n",
       "    ----------\n",
       "    .. [1] Hodges, J.L. Jr.,  \"The Significance Probability of the Smirnov\n",
       "           Two-Sample Test,\" Arkiv fiur Matematik, 3, No. 43 (1958), 469-86.\n",
       "\n",
       "    Examples\n",
       "    --------\n",
       "    Suppose we wish to test the null hypothesis that two samples were drawn\n",
       "    from the same distribution.\n",
       "    We choose a confidence level of 95%; that is, we will reject the null\n",
       "    hypothesis in favor of the alternative if the p-value is less than 0.05.\n",
       "\n",
       "    If the first sample were drawn from a uniform distribution and the second\n",
       "    were drawn from the standard normal, we would expect the null hypothesis\n",
       "    to be rejected.\n",
       "\n",
       "    >>> import numpy as np\n",
       "    >>> from scipy import stats\n",
       "    >>> rng = np.random.default_rng()\n",
       "    >>> sample1 = stats.uniform.rvs(size=100, random_state=rng)\n",
       "    >>> sample2 = stats.norm.rvs(size=110, random_state=rng)\n",
       "    >>> stats.ks_2samp(sample1, sample2)\n",
       "    KstestResult(statistic=0.5454545454545454, pvalue=7.37417839555191e-15)\n",
       "\n",
       "    Indeed, the p-value is lower than our threshold of 0.05, so we reject the\n",
       "    null hypothesis in favor of the default \"two-sided\" alternative: the data\n",
       "    were *not* drawn from the same distribution.\n",
       "\n",
       "    When both samples are drawn from the same distribution, we expect the data\n",
       "    to be consistent with the null hypothesis most of the time.\n",
       "\n",
       "    >>> sample1 = stats.norm.rvs(size=105, random_state=rng)\n",
       "    >>> sample2 = stats.norm.rvs(size=95, random_state=rng)\n",
       "    >>> stats.ks_2samp(sample1, sample2)\n",
       "    KstestResult(statistic=0.10927318295739348, pvalue=0.5438289009927495)\n",
       "\n",
       "    As expected, the p-value of 0.54 is not below our threshold of 0.05, so\n",
       "    we cannot reject the null hypothesis.\n",
       "\n",
       "    Suppose, however, that the first sample were drawn from\n",
       "    a normal distribution shifted toward greater values. In this case,\n",
       "    the cumulative density function (CDF) of the underlying distribution tends\n",
       "    to be *less* than the CDF underlying the second sample. Therefore, we would\n",
       "    expect the null hypothesis to be rejected with ``alternative='less'``:\n",
       "\n",
       "    >>> sample1 = stats.norm.rvs(size=105, loc=0.5, random_state=rng)\n",
       "    >>> stats.ks_2samp(sample1, sample2, alternative='less')\n",
       "    KstestResult(statistic=0.4055137844611529, pvalue=3.5474563068855554e-08)\n",
       "\n",
       "    and indeed, with p-value smaller than our threshold, we reject the null\n",
       "    hypothesis in favor of the alternative.\n",
       "\n",
       "    \"\"\"\u001b[0m\u001b[1;33m\n",
       "\u001b[0m    \u001b[0mmode\u001b[0m \u001b[1;33m=\u001b[0m \u001b[0mmethod\u001b[0m\u001b[1;33m\n",
       "\u001b[0m\u001b[1;33m\n",
       "\u001b[0m    \u001b[1;32mif\u001b[0m \u001b[0mmode\u001b[0m \u001b[1;32mnot\u001b[0m \u001b[1;32min\u001b[0m \u001b[1;33m[\u001b[0m\u001b[1;34m'auto'\u001b[0m\u001b[1;33m,\u001b[0m \u001b[1;34m'exact'\u001b[0m\u001b[1;33m,\u001b[0m \u001b[1;34m'asymp'\u001b[0m\u001b[1;33m]\u001b[0m\u001b[1;33m:\u001b[0m\u001b[1;33m\n",
       "\u001b[0m        \u001b[1;32mraise\u001b[0m \u001b[0mValueError\u001b[0m\u001b[1;33m(\u001b[0m\u001b[1;34mf'Invalid value for mode: {mode}'\u001b[0m\u001b[1;33m)\u001b[0m\u001b[1;33m\n",
       "\u001b[0m    \u001b[0malternative\u001b[0m \u001b[1;33m=\u001b[0m \u001b[1;33m{\u001b[0m\u001b[1;34m't'\u001b[0m\u001b[1;33m:\u001b[0m \u001b[1;34m'two-sided'\u001b[0m\u001b[1;33m,\u001b[0m \u001b[1;34m'g'\u001b[0m\u001b[1;33m:\u001b[0m \u001b[1;34m'greater'\u001b[0m\u001b[1;33m,\u001b[0m \u001b[1;34m'l'\u001b[0m\u001b[1;33m:\u001b[0m \u001b[1;34m'less'\u001b[0m\u001b[1;33m}\u001b[0m\u001b[1;33m.\u001b[0m\u001b[0mget\u001b[0m\u001b[1;33m(\u001b[0m\u001b[1;33m\n",
       "\u001b[0m        \u001b[0malternative\u001b[0m\u001b[1;33m.\u001b[0m\u001b[0mlower\u001b[0m\u001b[1;33m(\u001b[0m\u001b[1;33m)\u001b[0m\u001b[1;33m[\u001b[0m\u001b[1;36m0\u001b[0m\u001b[1;33m]\u001b[0m\u001b[1;33m,\u001b[0m \u001b[0malternative\u001b[0m\u001b[1;33m)\u001b[0m\u001b[1;33m\n",
       "\u001b[0m    \u001b[1;32mif\u001b[0m \u001b[0malternative\u001b[0m \u001b[1;32mnot\u001b[0m \u001b[1;32min\u001b[0m \u001b[1;33m[\u001b[0m\u001b[1;34m'two-sided'\u001b[0m\u001b[1;33m,\u001b[0m \u001b[1;34m'less'\u001b[0m\u001b[1;33m,\u001b[0m \u001b[1;34m'greater'\u001b[0m\u001b[1;33m]\u001b[0m\u001b[1;33m:\u001b[0m\u001b[1;33m\n",
       "\u001b[0m        \u001b[1;32mraise\u001b[0m \u001b[0mValueError\u001b[0m\u001b[1;33m(\u001b[0m\u001b[1;34mf'Invalid value for alternative: {alternative}'\u001b[0m\u001b[1;33m)\u001b[0m\u001b[1;33m\n",
       "\u001b[0m    \u001b[0mMAX_AUTO_N\u001b[0m \u001b[1;33m=\u001b[0m \u001b[1;36m10000\u001b[0m  \u001b[1;31m# 'auto' will attempt to be exact if n1,n2 <= MAX_AUTO_N\u001b[0m\u001b[1;33m\n",
       "\u001b[0m    \u001b[1;32mif\u001b[0m \u001b[0mnp\u001b[0m\u001b[1;33m.\u001b[0m\u001b[0mma\u001b[0m\u001b[1;33m.\u001b[0m\u001b[0mis_masked\u001b[0m\u001b[1;33m(\u001b[0m\u001b[0mdata1\u001b[0m\u001b[1;33m)\u001b[0m\u001b[1;33m:\u001b[0m\u001b[1;33m\n",
       "\u001b[0m        \u001b[0mdata1\u001b[0m \u001b[1;33m=\u001b[0m \u001b[0mdata1\u001b[0m\u001b[1;33m.\u001b[0m\u001b[0mcompressed\u001b[0m\u001b[1;33m(\u001b[0m\u001b[1;33m)\u001b[0m\u001b[1;33m\n",
       "\u001b[0m    \u001b[1;32mif\u001b[0m \u001b[0mnp\u001b[0m\u001b[1;33m.\u001b[0m\u001b[0mma\u001b[0m\u001b[1;33m.\u001b[0m\u001b[0mis_masked\u001b[0m\u001b[1;33m(\u001b[0m\u001b[0mdata2\u001b[0m\u001b[1;33m)\u001b[0m\u001b[1;33m:\u001b[0m\u001b[1;33m\n",
       "\u001b[0m        \u001b[0mdata2\u001b[0m \u001b[1;33m=\u001b[0m \u001b[0mdata2\u001b[0m\u001b[1;33m.\u001b[0m\u001b[0mcompressed\u001b[0m\u001b[1;33m(\u001b[0m\u001b[1;33m)\u001b[0m\u001b[1;33m\n",
       "\u001b[0m    \u001b[0mdata1\u001b[0m \u001b[1;33m=\u001b[0m \u001b[0mnp\u001b[0m\u001b[1;33m.\u001b[0m\u001b[0msort\u001b[0m\u001b[1;33m(\u001b[0m\u001b[0mdata1\u001b[0m\u001b[1;33m)\u001b[0m\u001b[1;33m\n",
       "\u001b[0m    \u001b[0mdata2\u001b[0m \u001b[1;33m=\u001b[0m \u001b[0mnp\u001b[0m\u001b[1;33m.\u001b[0m\u001b[0msort\u001b[0m\u001b[1;33m(\u001b[0m\u001b[0mdata2\u001b[0m\u001b[1;33m)\u001b[0m\u001b[1;33m\n",
       "\u001b[0m    \u001b[0mn1\u001b[0m \u001b[1;33m=\u001b[0m \u001b[0mdata1\u001b[0m\u001b[1;33m.\u001b[0m\u001b[0mshape\u001b[0m\u001b[1;33m[\u001b[0m\u001b[1;36m0\u001b[0m\u001b[1;33m]\u001b[0m\u001b[1;33m\n",
       "\u001b[0m    \u001b[0mn2\u001b[0m \u001b[1;33m=\u001b[0m \u001b[0mdata2\u001b[0m\u001b[1;33m.\u001b[0m\u001b[0mshape\u001b[0m\u001b[1;33m[\u001b[0m\u001b[1;36m0\u001b[0m\u001b[1;33m]\u001b[0m\u001b[1;33m\n",
       "\u001b[0m    \u001b[1;32mif\u001b[0m \u001b[0mmin\u001b[0m\u001b[1;33m(\u001b[0m\u001b[0mn1\u001b[0m\u001b[1;33m,\u001b[0m \u001b[0mn2\u001b[0m\u001b[1;33m)\u001b[0m \u001b[1;33m==\u001b[0m \u001b[1;36m0\u001b[0m\u001b[1;33m:\u001b[0m\u001b[1;33m\n",
       "\u001b[0m        \u001b[1;32mraise\u001b[0m \u001b[0mValueError\u001b[0m\u001b[1;33m(\u001b[0m\u001b[1;34m'Data passed to ks_2samp must not be empty'\u001b[0m\u001b[1;33m)\u001b[0m\u001b[1;33m\n",
       "\u001b[0m\u001b[1;33m\n",
       "\u001b[0m    \u001b[0mdata_all\u001b[0m \u001b[1;33m=\u001b[0m \u001b[0mnp\u001b[0m\u001b[1;33m.\u001b[0m\u001b[0mconcatenate\u001b[0m\u001b[1;33m(\u001b[0m\u001b[1;33m[\u001b[0m\u001b[0mdata1\u001b[0m\u001b[1;33m,\u001b[0m \u001b[0mdata2\u001b[0m\u001b[1;33m]\u001b[0m\u001b[1;33m)\u001b[0m\u001b[1;33m\n",
       "\u001b[0m    \u001b[1;31m# using searchsorted solves equal data problem\u001b[0m\u001b[1;33m\n",
       "\u001b[0m    \u001b[0mcdf1\u001b[0m \u001b[1;33m=\u001b[0m \u001b[0mnp\u001b[0m\u001b[1;33m.\u001b[0m\u001b[0msearchsorted\u001b[0m\u001b[1;33m(\u001b[0m\u001b[0mdata1\u001b[0m\u001b[1;33m,\u001b[0m \u001b[0mdata_all\u001b[0m\u001b[1;33m,\u001b[0m \u001b[0mside\u001b[0m\u001b[1;33m=\u001b[0m\u001b[1;34m'right'\u001b[0m\u001b[1;33m)\u001b[0m \u001b[1;33m/\u001b[0m \u001b[0mn1\u001b[0m\u001b[1;33m\n",
       "\u001b[0m    \u001b[0mcdf2\u001b[0m \u001b[1;33m=\u001b[0m \u001b[0mnp\u001b[0m\u001b[1;33m.\u001b[0m\u001b[0msearchsorted\u001b[0m\u001b[1;33m(\u001b[0m\u001b[0mdata2\u001b[0m\u001b[1;33m,\u001b[0m \u001b[0mdata_all\u001b[0m\u001b[1;33m,\u001b[0m \u001b[0mside\u001b[0m\u001b[1;33m=\u001b[0m\u001b[1;34m'right'\u001b[0m\u001b[1;33m)\u001b[0m \u001b[1;33m/\u001b[0m \u001b[0mn2\u001b[0m\u001b[1;33m\n",
       "\u001b[0m    \u001b[0mcddiffs\u001b[0m \u001b[1;33m=\u001b[0m \u001b[0mcdf1\u001b[0m \u001b[1;33m-\u001b[0m \u001b[0mcdf2\u001b[0m\u001b[1;33m\n",
       "\u001b[0m\u001b[1;33m\n",
       "\u001b[0m    \u001b[1;31m# Identify the location of the statistic\u001b[0m\u001b[1;33m\n",
       "\u001b[0m    \u001b[0margminS\u001b[0m \u001b[1;33m=\u001b[0m \u001b[0mnp\u001b[0m\u001b[1;33m.\u001b[0m\u001b[0margmin\u001b[0m\u001b[1;33m(\u001b[0m\u001b[0mcddiffs\u001b[0m\u001b[1;33m)\u001b[0m\u001b[1;33m\n",
       "\u001b[0m    \u001b[0margmaxS\u001b[0m \u001b[1;33m=\u001b[0m \u001b[0mnp\u001b[0m\u001b[1;33m.\u001b[0m\u001b[0margmax\u001b[0m\u001b[1;33m(\u001b[0m\u001b[0mcddiffs\u001b[0m\u001b[1;33m)\u001b[0m\u001b[1;33m\n",
       "\u001b[0m    \u001b[0mloc_minS\u001b[0m \u001b[1;33m=\u001b[0m \u001b[0mdata_all\u001b[0m\u001b[1;33m[\u001b[0m\u001b[0margminS\u001b[0m\u001b[1;33m]\u001b[0m\u001b[1;33m\n",
       "\u001b[0m    \u001b[0mloc_maxS\u001b[0m \u001b[1;33m=\u001b[0m \u001b[0mdata_all\u001b[0m\u001b[1;33m[\u001b[0m\u001b[0margmaxS\u001b[0m\u001b[1;33m]\u001b[0m\u001b[1;33m\n",
       "\u001b[0m\u001b[1;33m\n",
       "\u001b[0m    \u001b[1;31m# Ensure sign of minS is not negative.\u001b[0m\u001b[1;33m\n",
       "\u001b[0m    \u001b[0mminS\u001b[0m \u001b[1;33m=\u001b[0m \u001b[0mnp\u001b[0m\u001b[1;33m.\u001b[0m\u001b[0mclip\u001b[0m\u001b[1;33m(\u001b[0m\u001b[1;33m-\u001b[0m\u001b[0mcddiffs\u001b[0m\u001b[1;33m[\u001b[0m\u001b[0margminS\u001b[0m\u001b[1;33m]\u001b[0m\u001b[1;33m,\u001b[0m \u001b[1;36m0\u001b[0m\u001b[1;33m,\u001b[0m \u001b[1;36m1\u001b[0m\u001b[1;33m)\u001b[0m\u001b[1;33m\n",
       "\u001b[0m    \u001b[0mmaxS\u001b[0m \u001b[1;33m=\u001b[0m \u001b[0mcddiffs\u001b[0m\u001b[1;33m[\u001b[0m\u001b[0margmaxS\u001b[0m\u001b[1;33m]\u001b[0m\u001b[1;33m\n",
       "\u001b[0m\u001b[1;33m\n",
       "\u001b[0m    \u001b[1;32mif\u001b[0m \u001b[0malternative\u001b[0m \u001b[1;33m==\u001b[0m \u001b[1;34m'less'\u001b[0m \u001b[1;32mor\u001b[0m \u001b[1;33m(\u001b[0m\u001b[0malternative\u001b[0m \u001b[1;33m==\u001b[0m \u001b[1;34m'two-sided'\u001b[0m \u001b[1;32mand\u001b[0m \u001b[0mminS\u001b[0m \u001b[1;33m>\u001b[0m \u001b[0mmaxS\u001b[0m\u001b[1;33m)\u001b[0m\u001b[1;33m:\u001b[0m\u001b[1;33m\n",
       "\u001b[0m        \u001b[0md\u001b[0m \u001b[1;33m=\u001b[0m \u001b[0mminS\u001b[0m\u001b[1;33m\n",
       "\u001b[0m        \u001b[0md_location\u001b[0m \u001b[1;33m=\u001b[0m \u001b[0mloc_minS\u001b[0m\u001b[1;33m\n",
       "\u001b[0m        \u001b[0md_sign\u001b[0m \u001b[1;33m=\u001b[0m \u001b[1;33m-\u001b[0m\u001b[1;36m1\u001b[0m\u001b[1;33m\n",
       "\u001b[0m    \u001b[1;32melse\u001b[0m\u001b[1;33m:\u001b[0m\u001b[1;33m\n",
       "\u001b[0m        \u001b[0md\u001b[0m \u001b[1;33m=\u001b[0m \u001b[0mmaxS\u001b[0m\u001b[1;33m\n",
       "\u001b[0m        \u001b[0md_location\u001b[0m \u001b[1;33m=\u001b[0m \u001b[0mloc_maxS\u001b[0m\u001b[1;33m\n",
       "\u001b[0m        \u001b[0md_sign\u001b[0m \u001b[1;33m=\u001b[0m \u001b[1;36m1\u001b[0m\u001b[1;33m\n",
       "\u001b[0m    \u001b[0mg\u001b[0m \u001b[1;33m=\u001b[0m \u001b[0mgcd\u001b[0m\u001b[1;33m(\u001b[0m\u001b[0mn1\u001b[0m\u001b[1;33m,\u001b[0m \u001b[0mn2\u001b[0m\u001b[1;33m)\u001b[0m\u001b[1;33m\n",
       "\u001b[0m    \u001b[0mn1g\u001b[0m \u001b[1;33m=\u001b[0m \u001b[0mn1\u001b[0m \u001b[1;33m//\u001b[0m \u001b[0mg\u001b[0m\u001b[1;33m\n",
       "\u001b[0m    \u001b[0mn2g\u001b[0m \u001b[1;33m=\u001b[0m \u001b[0mn2\u001b[0m \u001b[1;33m//\u001b[0m \u001b[0mg\u001b[0m\u001b[1;33m\n",
       "\u001b[0m    \u001b[0mprob\u001b[0m \u001b[1;33m=\u001b[0m \u001b[1;33m-\u001b[0m\u001b[0mnp\u001b[0m\u001b[1;33m.\u001b[0m\u001b[0minf\u001b[0m\u001b[1;33m\n",
       "\u001b[0m    \u001b[1;32mif\u001b[0m \u001b[0mmode\u001b[0m \u001b[1;33m==\u001b[0m \u001b[1;34m'auto'\u001b[0m\u001b[1;33m:\u001b[0m\u001b[1;33m\n",
       "\u001b[0m        \u001b[0mmode\u001b[0m \u001b[1;33m=\u001b[0m \u001b[1;34m'exact'\u001b[0m \u001b[1;32mif\u001b[0m \u001b[0mmax\u001b[0m\u001b[1;33m(\u001b[0m\u001b[0mn1\u001b[0m\u001b[1;33m,\u001b[0m \u001b[0mn2\u001b[0m\u001b[1;33m)\u001b[0m \u001b[1;33m<=\u001b[0m \u001b[0mMAX_AUTO_N\u001b[0m \u001b[1;32melse\u001b[0m \u001b[1;34m'asymp'\u001b[0m\u001b[1;33m\n",
       "\u001b[0m    \u001b[1;32melif\u001b[0m \u001b[0mmode\u001b[0m \u001b[1;33m==\u001b[0m \u001b[1;34m'exact'\u001b[0m\u001b[1;33m:\u001b[0m\u001b[1;33m\n",
       "\u001b[0m        \u001b[1;31m# If lcm(n1, n2) is too big, switch from exact to asymp\u001b[0m\u001b[1;33m\n",
       "\u001b[0m        \u001b[1;32mif\u001b[0m \u001b[0mn1g\u001b[0m \u001b[1;33m>=\u001b[0m \u001b[0mnp\u001b[0m\u001b[1;33m.\u001b[0m\u001b[0miinfo\u001b[0m\u001b[1;33m(\u001b[0m\u001b[0mnp\u001b[0m\u001b[1;33m.\u001b[0m\u001b[0mint32\u001b[0m\u001b[1;33m)\u001b[0m\u001b[1;33m.\u001b[0m\u001b[0mmax\u001b[0m \u001b[1;33m/\u001b[0m \u001b[0mn2g\u001b[0m\u001b[1;33m:\u001b[0m\u001b[1;33m\n",
       "\u001b[0m            \u001b[0mmode\u001b[0m \u001b[1;33m=\u001b[0m \u001b[1;34m'asymp'\u001b[0m\u001b[1;33m\n",
       "\u001b[0m            \u001b[0mwarnings\u001b[0m\u001b[1;33m.\u001b[0m\u001b[0mwarn\u001b[0m\u001b[1;33m(\u001b[0m\u001b[1;33m\n",
       "\u001b[0m                \u001b[1;34mf\"Exact ks_2samp calculation not possible with samples sizes \"\u001b[0m\u001b[1;33m\n",
       "\u001b[0m                \u001b[1;34mf\"{n1} and {n2}. Switching to 'asymp'.\"\u001b[0m\u001b[1;33m,\u001b[0m \u001b[0mRuntimeWarning\u001b[0m\u001b[1;33m,\u001b[0m\u001b[1;33m\n",
       "\u001b[0m                \u001b[0mstacklevel\u001b[0m\u001b[1;33m=\u001b[0m\u001b[1;36m3\u001b[0m\u001b[1;33m)\u001b[0m\u001b[1;33m\n",
       "\u001b[0m\u001b[1;33m\n",
       "\u001b[0m    \u001b[1;32mif\u001b[0m \u001b[0mmode\u001b[0m \u001b[1;33m==\u001b[0m \u001b[1;34m'exact'\u001b[0m\u001b[1;33m:\u001b[0m\u001b[1;33m\n",
       "\u001b[0m        \u001b[0msuccess\u001b[0m\u001b[1;33m,\u001b[0m \u001b[0md\u001b[0m\u001b[1;33m,\u001b[0m \u001b[0mprob\u001b[0m \u001b[1;33m=\u001b[0m \u001b[0m_attempt_exact_2kssamp\u001b[0m\u001b[1;33m(\u001b[0m\u001b[0mn1\u001b[0m\u001b[1;33m,\u001b[0m \u001b[0mn2\u001b[0m\u001b[1;33m,\u001b[0m \u001b[0mg\u001b[0m\u001b[1;33m,\u001b[0m \u001b[0md\u001b[0m\u001b[1;33m,\u001b[0m \u001b[0malternative\u001b[0m\u001b[1;33m)\u001b[0m\u001b[1;33m\n",
       "\u001b[0m        \u001b[1;32mif\u001b[0m \u001b[1;32mnot\u001b[0m \u001b[0msuccess\u001b[0m\u001b[1;33m:\u001b[0m\u001b[1;33m\n",
       "\u001b[0m            \u001b[0mmode\u001b[0m \u001b[1;33m=\u001b[0m \u001b[1;34m'asymp'\u001b[0m\u001b[1;33m\n",
       "\u001b[0m            \u001b[0mwarnings\u001b[0m\u001b[1;33m.\u001b[0m\u001b[0mwarn\u001b[0m\u001b[1;33m(\u001b[0m\u001b[1;34mf\"ks_2samp: Exact calculation unsuccessful. \"\u001b[0m\u001b[1;33m\n",
       "\u001b[0m                          \u001b[1;34mf\"Switching to method={mode}.\"\u001b[0m\u001b[1;33m,\u001b[0m \u001b[0mRuntimeWarning\u001b[0m\u001b[1;33m,\u001b[0m\u001b[1;33m\n",
       "\u001b[0m                          \u001b[0mstacklevel\u001b[0m\u001b[1;33m=\u001b[0m\u001b[1;36m3\u001b[0m\u001b[1;33m)\u001b[0m\u001b[1;33m\n",
       "\u001b[0m\u001b[1;33m\n",
       "\u001b[0m    \u001b[1;32mif\u001b[0m \u001b[0mmode\u001b[0m \u001b[1;33m==\u001b[0m \u001b[1;34m'asymp'\u001b[0m\u001b[1;33m:\u001b[0m\u001b[1;33m\n",
       "\u001b[0m        \u001b[1;31m# The product n1*n2 is large.  Use Smirnov's asymptoptic formula.\u001b[0m\u001b[1;33m\n",
       "\u001b[0m        \u001b[1;31m# Ensure float to avoid overflow in multiplication\u001b[0m\u001b[1;33m\n",
       "\u001b[0m        \u001b[1;31m# sorted because the one-sided formula is not symmetric in n1, n2\u001b[0m\u001b[1;33m\n",
       "\u001b[0m        \u001b[0mm\u001b[0m\u001b[1;33m,\u001b[0m \u001b[0mn\u001b[0m \u001b[1;33m=\u001b[0m \u001b[0msorted\u001b[0m\u001b[1;33m(\u001b[0m\u001b[1;33m[\u001b[0m\u001b[0mfloat\u001b[0m\u001b[1;33m(\u001b[0m\u001b[0mn1\u001b[0m\u001b[1;33m)\u001b[0m\u001b[1;33m,\u001b[0m \u001b[0mfloat\u001b[0m\u001b[1;33m(\u001b[0m\u001b[0mn2\u001b[0m\u001b[1;33m)\u001b[0m\u001b[1;33m]\u001b[0m\u001b[1;33m,\u001b[0m \u001b[0mreverse\u001b[0m\u001b[1;33m=\u001b[0m\u001b[1;32mTrue\u001b[0m\u001b[1;33m)\u001b[0m\u001b[1;33m\n",
       "\u001b[0m        \u001b[0men\u001b[0m \u001b[1;33m=\u001b[0m \u001b[0mm\u001b[0m \u001b[1;33m*\u001b[0m \u001b[0mn\u001b[0m \u001b[1;33m/\u001b[0m \u001b[1;33m(\u001b[0m\u001b[0mm\u001b[0m \u001b[1;33m+\u001b[0m \u001b[0mn\u001b[0m\u001b[1;33m)\u001b[0m\u001b[1;33m\n",
       "\u001b[0m        \u001b[1;32mif\u001b[0m \u001b[0malternative\u001b[0m \u001b[1;33m==\u001b[0m \u001b[1;34m'two-sided'\u001b[0m\u001b[1;33m:\u001b[0m\u001b[1;33m\n",
       "\u001b[0m            \u001b[0mprob\u001b[0m \u001b[1;33m=\u001b[0m \u001b[0mdistributions\u001b[0m\u001b[1;33m.\u001b[0m\u001b[0mkstwo\u001b[0m\u001b[1;33m.\u001b[0m\u001b[0msf\u001b[0m\u001b[1;33m(\u001b[0m\u001b[0md\u001b[0m\u001b[1;33m,\u001b[0m \u001b[0mnp\u001b[0m\u001b[1;33m.\u001b[0m\u001b[0mround\u001b[0m\u001b[1;33m(\u001b[0m\u001b[0men\u001b[0m\u001b[1;33m)\u001b[0m\u001b[1;33m)\u001b[0m\u001b[1;33m\n",
       "\u001b[0m        \u001b[1;32melse\u001b[0m\u001b[1;33m:\u001b[0m\u001b[1;33m\n",
       "\u001b[0m            \u001b[0mz\u001b[0m \u001b[1;33m=\u001b[0m \u001b[0mnp\u001b[0m\u001b[1;33m.\u001b[0m\u001b[0msqrt\u001b[0m\u001b[1;33m(\u001b[0m\u001b[0men\u001b[0m\u001b[1;33m)\u001b[0m \u001b[1;33m*\u001b[0m \u001b[0md\u001b[0m\u001b[1;33m\n",
       "\u001b[0m            \u001b[1;31m# Use Hodges' suggested approximation Eqn 5.3\u001b[0m\u001b[1;33m\n",
       "\u001b[0m            \u001b[1;31m# Requires m to be the larger of (n1, n2)\u001b[0m\u001b[1;33m\n",
       "\u001b[0m            \u001b[0mexpt\u001b[0m \u001b[1;33m=\u001b[0m \u001b[1;33m-\u001b[0m\u001b[1;36m2\u001b[0m \u001b[1;33m*\u001b[0m \u001b[0mz\u001b[0m\u001b[1;33m**\u001b[0m\u001b[1;36m2\u001b[0m \u001b[1;33m-\u001b[0m \u001b[1;36m2\u001b[0m \u001b[1;33m*\u001b[0m \u001b[0mz\u001b[0m \u001b[1;33m*\u001b[0m \u001b[1;33m(\u001b[0m\u001b[0mm\u001b[0m \u001b[1;33m+\u001b[0m \u001b[1;36m2\u001b[0m\u001b[1;33m*\u001b[0m\u001b[0mn\u001b[0m\u001b[1;33m)\u001b[0m\u001b[1;33m/\u001b[0m\u001b[0mnp\u001b[0m\u001b[1;33m.\u001b[0m\u001b[0msqrt\u001b[0m\u001b[1;33m(\u001b[0m\u001b[0mm\u001b[0m\u001b[1;33m*\u001b[0m\u001b[0mn\u001b[0m\u001b[1;33m*\u001b[0m\u001b[1;33m(\u001b[0m\u001b[0mm\u001b[0m\u001b[1;33m+\u001b[0m\u001b[0mn\u001b[0m\u001b[1;33m)\u001b[0m\u001b[1;33m)\u001b[0m\u001b[1;33m/\u001b[0m\u001b[1;36m3.0\u001b[0m\u001b[1;33m\n",
       "\u001b[0m            \u001b[0mprob\u001b[0m \u001b[1;33m=\u001b[0m \u001b[0mnp\u001b[0m\u001b[1;33m.\u001b[0m\u001b[0mexp\u001b[0m\u001b[1;33m(\u001b[0m\u001b[0mexpt\u001b[0m\u001b[1;33m)\u001b[0m\u001b[1;33m\n",
       "\u001b[0m\u001b[1;33m\n",
       "\u001b[0m    \u001b[0mprob\u001b[0m \u001b[1;33m=\u001b[0m \u001b[0mnp\u001b[0m\u001b[1;33m.\u001b[0m\u001b[0mclip\u001b[0m\u001b[1;33m(\u001b[0m\u001b[0mprob\u001b[0m\u001b[1;33m,\u001b[0m \u001b[1;36m0\u001b[0m\u001b[1;33m,\u001b[0m \u001b[1;36m1\u001b[0m\u001b[1;33m)\u001b[0m\u001b[1;33m\n",
       "\u001b[0m    \u001b[1;32mreturn\u001b[0m \u001b[0mKstestResult\u001b[0m\u001b[1;33m(\u001b[0m\u001b[0md\u001b[0m\u001b[1;33m,\u001b[0m \u001b[0mprob\u001b[0m\u001b[1;33m,\u001b[0m \u001b[0mstatistic_location\u001b[0m\u001b[1;33m=\u001b[0m\u001b[0md_location\u001b[0m\u001b[1;33m,\u001b[0m\u001b[1;33m\n",
       "\u001b[0m                        \u001b[0mstatistic_sign\u001b[0m\u001b[1;33m=\u001b[0m\u001b[0md_sign\u001b[0m\u001b[1;33m)\u001b[0m\u001b[1;33m\u001b[0m\u001b[1;33m\u001b[0m\u001b[0m\n",
       "\u001b[1;31mFile:\u001b[0m      c:\\users\\marvi\\onedrive\\documents\\marvin\\marvin\\documents 2\\python development\\statistics with python essentials\\.py_stats\\lib\\site-packages\\scipy\\stats\\_stats_py.py\n",
       "\u001b[1;31mType:\u001b[0m      function"
      ]
     },
     "metadata": {},
     "output_type": "display_data"
    }
   ],
   "source": [
    "stats.ks_2samp??"
   ]
  },
  {
   "cell_type": "code",
   "execution_count": 24,
   "id": "fa83e954-0173-47fe-9739-5a0f9cd885a6",
   "metadata": {},
   "outputs": [],
   "source": [
    "ks_stat, p_value =  stats.ks_2samp(n_ames, college_cr)\n"
   ]
  },
  {
   "cell_type": "code",
   "execution_count": null,
   "id": "933006ca-57c3-455a-96e4-53ecf562a838",
   "metadata": {},
   "outputs": [],
   "source": [
    "if p_value > 0.05:\n",
    "    print('Fail to reject the NH: Same distribution')\n",
    "\n",
    "else:\n",
    "    print('Reject the NH: Not from same distribution')"
   ]
  },
  {
   "cell_type": "markdown",
   "id": "0311cd17-dda6-412e-a005-68412fdd4151",
   "metadata": {},
   "source": [
    "> Since the p-value is less than 0.05, we fail to reject the null hypothesis that the 2 samples are from the same distribution"
   ]
  }
 ],
 "metadata": {
  "kernelspec": {
   "display_name": "Python 3 (ipykernel)",
   "language": "python",
   "name": "python3"
  },
  "language_info": {
   "codemirror_mode": {
    "name": "ipython",
    "version": 3
   },
   "file_extension": ".py",
   "mimetype": "text/x-python",
   "name": "python",
   "nbconvert_exporter": "python",
   "pygments_lexer": "ipython3",
   "version": "3.8.10"
  }
 },
 "nbformat": 4,
 "nbformat_minor": 5
}
